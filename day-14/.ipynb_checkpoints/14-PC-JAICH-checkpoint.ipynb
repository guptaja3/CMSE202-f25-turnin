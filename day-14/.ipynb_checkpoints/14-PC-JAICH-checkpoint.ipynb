{
 "cells": [
  {
   "cell_type": "markdown",
   "metadata": {},
   "source": [
    "# Pre-Class Assignment: Polynomial Regression\n",
    "# Day 14 \n",
    "# CMSE 202\n",
    "<img src=\"https://i.pinimg.com/originals/52/2c/20/522c209c019fe9592857bcb569184478.jpg\">"
   ]
  },
  {
   "cell_type": "markdown",
   "metadata": {},
   "source": [
    "### <p style=\"text-align: right;\"> &#9989; Jai</p>"
   ]
  },
  {
   "cell_type": "markdown",
   "metadata": {},
   "source": [
    "## Goals for Pre-Class Assignment\n",
    "\n",
    "After this pre-class assignment, you will be able to:\n",
    "1. Generate data for a polynomial regression\n",
    "2. Construct a set of polynomial regression models usings `statsmodels` \n",
    "3. Evaluate the quality of fit for a set of models using adjusted $R^2$ and determine the best fit\n",
    "4. Explain why that model is the best fit for this data"
   ]
  },
  {
   "cell_type": "markdown",
   "metadata": {},
   "source": [
    "## Our Imports\n",
    "\n",
    "**Make sure to execute this cell!**"
   ]
  },
  {
   "cell_type": "code",
   "execution_count": 9,
   "metadata": {},
   "outputs": [],
   "source": [
    "import matplotlib.pyplot as plt\n",
    "import seaborn as sns\n",
    "import numpy as np\n",
    "import pandas as pd\n",
    "\n",
    "sns.set_context(\"notebook\")\n",
    "import statsmodels.api as sm\n",
    "from IPython.display import HTML"
   ]
  },
  {
   "cell_type": "markdown",
   "metadata": {},
   "source": [
    "---\n",
    "## 1. Polynomial Regression\n",
    "\n",
    "Previously we focused on fitting a line to data, but as we've seen, it's possible that a straight line is not going to be good enough to model the data we are working with. We can augment our $ Ax + B$ with extra features. By adding features we are still doing linear regression, but where the features themselves can consist of, well anything.\n",
    "\n",
    "However, to limit our focus, for this pre-class we will use polynomials. We can add values like $x^2$ or $x^5$ to the potential set of features that can be used to better map against our data. \n",
    "\n",
    "&#9989; **Do This**: The question we should ask ourselves is, how many such features should we add? What are the advantages and disadvantages of adding more and more features? Think about it and answer in the cell below."
   ]
  },
  {
   "cell_type": "markdown",
   "metadata": {},
   "source": [
    "<font size=+3>&#9998;</font> I think you should add the least as you can intuitively tell would appropriately fit the data."
   ]
  },
  {
   "cell_type": "markdown",
   "metadata": {},
   "source": [
    "### 1.1 Let's make some Data\n",
    "\n",
    "When we are first starting out with a new tool, it can be useful to generate our own data. Data we generate gives us the advantage of **knowing** what the answer should be. \n",
    "\n",
    "&#9989; **Do This**: Generate some data by doing the following:\n",
    "* build a numpy array `x_ary` of values from -4 to 4 in increments of 0.2\n",
    "* generate a corresponding `y_ary`, using the values from `x_ary`, based on the formula $x^4 + 2x^3 -15x^2 -12x + 36$\n",
    "* create `y_noisy`, by adding random (uniform) noise to `y_ary` in the range of -15 to 15. Later on we might make the range bigger (say -25 to 25) or smaller (say -5 to 5) for comparison."
   ]
  },
  {
   "cell_type": "code",
   "execution_count": 4,
   "metadata": {},
   "outputs": [
    {
     "data": {
      "text/plain": [
       "(array([-4.00000000e+00, -3.80000000e+00, -3.60000000e+00, -3.40000000e+00,\n",
       "        -3.20000000e+00, -3.00000000e+00, -2.80000000e+00, -2.60000000e+00,\n",
       "        -2.40000000e+00, -2.20000000e+00, -2.00000000e+00, -1.80000000e+00,\n",
       "        -1.60000000e+00, -1.40000000e+00, -1.20000000e+00, -1.00000000e+00,\n",
       "        -8.00000000e-01, -6.00000000e-01, -4.00000000e-01, -2.00000000e-01,\n",
       "         3.55271368e-15,  2.00000000e-01,  4.00000000e-01,  6.00000000e-01,\n",
       "         8.00000000e-01,  1.00000000e+00,  1.20000000e+00,  1.40000000e+00,\n",
       "         1.60000000e+00,  1.80000000e+00,  2.00000000e+00,  2.20000000e+00,\n",
       "         2.40000000e+00,  2.60000000e+00,  2.80000000e+00,  3.00000000e+00,\n",
       "         3.20000000e+00,  3.40000000e+00,  3.60000000e+00,  3.80000000e+00,\n",
       "         4.00000000e+00]),\n",
       " array([-2.80000000e+01, -3.62304000e+01, -4.05504000e+01, -4.15744000e+01,\n",
       "        -3.98784000e+01, -3.60000000e+01, -3.04384000e+01, -2.36544000e+01,\n",
       "        -1.60704000e+01, -8.07040000e+00,  7.10542736e-14,  7.83360000e+00,\n",
       "         1.51616000e+01,  2.17536000e+01,  2.74176000e+01,  3.20000000e+01,\n",
       "         3.53856000e+01,  3.74976000e+01,  3.82976000e+01,  3.77856000e+01,\n",
       "         3.60000000e+01,  3.30176000e+01,  2.89536000e+01,  2.39616000e+01,\n",
       "         1.82336000e+01,  1.20000000e+01,  5.52960000e+00, -8.70400000e-01,\n",
       "        -6.85440000e+00, -1.20384000e+01, -1.60000000e+01, -1.82784000e+01,\n",
       "        -1.83744000e+01, -1.57504000e+01, -9.83040000e+00,  3.55271368e-13,\n",
       "         1.43936000e+01,  3.40416000e+01,  5.96736000e+01,  9.20576000e+01,\n",
       "         1.32000000e+02]),\n",
       " array([-15.09714861, -35.63703507, -38.61181097, -35.20479934,\n",
       "        -48.82083831, -28.98579324, -30.95488413, -14.26401421,\n",
       "        -11.56128899, -16.44647992,  -5.62877113,   7.92881799,\n",
       "         11.65832404,  32.52541943,  38.79045723,  37.78010661,\n",
       "         40.94404666,  32.69773073,  25.90160447,  39.50039803,\n",
       "         36.42017299,  27.68329035,  28.579104  ,  34.69279747,\n",
       "         19.9240491 ,   8.52067954,   4.08905992,  13.67067269,\n",
       "        -17.63763085, -15.83519332,  -7.01498449, -11.42261146,\n",
       "        -30.31229453, -14.93762483,   2.08430986,   7.20505654,\n",
       "          4.45487465,  46.53369245,  48.47552265,  94.13165925,\n",
       "        144.86035391]))"
      ]
     },
     "execution_count": 4,
     "metadata": {},
     "output_type": "execute_result"
    }
   ],
   "source": [
    "x_ary = np.arange(-4, 4.2, 0.2)\n",
    "y_ary = x_ary**4 + 2*x_ary**3 - 15*x_ary**2 - 12*x_ary + 36\n",
    "noise = np.random.uniform(-15, 15, size=x_ary.shape)\n",
    "y_noisy = y_ary + noise\n",
    "\n",
    "x_ary, y_ary, y_noisy"
   ]
  },
  {
   "cell_type": "markdown",
   "metadata": {},
   "source": [
    "### 1.2 Plot the data\n",
    "\n",
    "As always, it's been to look at our data before we try to model it.\n",
    "\n",
    "&#9989; **Do This**: Plot `x_ary` vs both `y_ary` and `y_noisy`. Do it overlapping with colors, or side by side, whatever you think would look good. _Make sure to label your axes!_"
   ]
  },
  {
   "cell_type": "code",
   "execution_count": 18,
   "metadata": {},
   "outputs": [
    {
     "data": {
      "image/png": "[encoded data removed]",
      "text/plain": [
       "<Figure size 1000x700 with 1 Axes>"
      ]
     },
     "metadata": {},
     "output_type": "display_data"
    }
   ],
   "source": [
    "# put your code here\n",
    "fig = plt.figure(figsize = (10,7))\n",
    "\n",
    "plt.plot(x_ary, y_ary, label=\"function\")\n",
    "\n",
    "plt.scatter(x_ary, y_noisy, label=\"noisy\", color=\"red\", alpha=0.6)\n",
    "\n",
    "plt.xlabel(\"x values\")\n",
    "plt.ylabel(\"y values\")\n",
    "plt.title(\"Polynomial Function vs Noisy Data\")\n",
    "plt.legend()\n",
    "\n",
    "plt.show()\n"
   ]
  },
  {
   "cell_type": "markdown",
   "metadata": {},
   "source": [
    "---\n",
    "## 2 Making the Polynomial Features\n",
    "\n",
    "Ultimately it would be nice to do our work using a `pandas` DataFrame so that we have the opportunity to label our columns. There's the added benefit that `statsmodels` works well with `pandas` DataFrames. \n",
    "\n",
    "&#9989; **Do This**: Make a DataFrame consisting of the following columns: a constant value for the intercept, the values in `x_ary`, and additional powers of `x_ary` up to 10.\n",
    "\n",
    "You can do this one of two ways:\n",
    "1. make the DataFrame out of `x_ary` and add features to the DataFrame\n",
    "2. add columns to the `x_ary` array and then finish off by adding to a DataFrame\n",
    "\n",
    "In the end, you have a DataFrame no matter the approach.\n",
    "\n",
    "To state the goal for this task again, the columns of the DataFrame should be:\n",
    "* Label the first column \"const\" and just place the value 1 in it\n",
    "* make the `x_ary` data column 1, labeled \"data\"\n",
    "* the next 9 columns should be based on `x_ary` and have as values: $x^2$, $x^3$, $x^4 \\ldots$ $x^{10}$. Give them good (but short) label names\n",
    "\n",
    "Print the head of your DataFrame when you're done to make sure it looks right. It should end up looking something like this:\n",
    "\n",
    "<img src=\"https://i.ibb.co/FX5fs7f/Screen-Shot-2021-03-05-at-3-43-11-PM.png\" alt=\"Screen-Shot-2021-03-05-at-3-43-11-PM\" border=\"0\" width=800px>"
   ]
  },
  {
   "cell_type": "code",
   "execution_count": 17,
   "metadata": {},
   "outputs": [
    {
     "data": {
      "text/html": [
       "<div>\n",
       "<style scoped>\n",
       "    .dataframe tbody tr th:only-of-type {\n",
       "        vertical-align: middle;\n",
       "    }\n",
       "\n",
       "    .dataframe tbody tr th {\n",
       "        vertical-align: top;\n",
       "    }\n",
       "\n",
       "    .dataframe thead th {\n",
       "        text-align: right;\n",
       "    }\n",
       "</style>\n",
       "<table border=\"1\" class=\"dataframe\">\n",
       "  <thead>\n",
       "    <tr style=\"text-align: right;\">\n",
       "      <th></th>\n",
       "      <th>const</th>\n",
       "      <th>data</th>\n",
       "      <th>x^2</th>\n",
       "      <th>x^3</th>\n",
       "      <th>x^4</th>\n",
       "      <th>x^5</th>\n",
       "      <th>x^6</th>\n",
       "      <th>x^7</th>\n",
       "      <th>x^8</th>\n",
       "      <th>x^9</th>\n",
       "      <th>x^10</th>\n",
       "    </tr>\n",
       "  </thead>\n",
       "  <tbody>\n",
       "    <tr>\n",
       "      <th>0</th>\n",
       "      <td>1.0</td>\n",
       "      <td>-4.0</td>\n",
       "      <td>16.00</td>\n",
       "      <td>-64.000</td>\n",
       "      <td>256.0000</td>\n",
       "      <td>-1024.00000</td>\n",
       "      <td>4096.000000</td>\n",
       "      <td>-16384.000000</td>\n",
       "      <td>65536.000000</td>\n",
       "      <td>-262144.000000</td>\n",
       "      <td>1.048576e+06</td>\n",
       "    </tr>\n",
       "    <tr>\n",
       "      <th>1</th>\n",
       "      <td>1.0</td>\n",
       "      <td>-3.8</td>\n",
       "      <td>14.44</td>\n",
       "      <td>-54.872</td>\n",
       "      <td>208.5136</td>\n",
       "      <td>-792.35168</td>\n",
       "      <td>3010.936384</td>\n",
       "      <td>-11441.558259</td>\n",
       "      <td>43477.921385</td>\n",
       "      <td>-165216.101263</td>\n",
       "      <td>6.278212e+05</td>\n",
       "    </tr>\n",
       "    <tr>\n",
       "      <th>2</th>\n",
       "      <td>1.0</td>\n",
       "      <td>-3.6</td>\n",
       "      <td>12.96</td>\n",
       "      <td>-46.656</td>\n",
       "      <td>167.9616</td>\n",
       "      <td>-604.66176</td>\n",
       "      <td>2176.782336</td>\n",
       "      <td>-7836.416410</td>\n",
       "      <td>28211.099075</td>\n",
       "      <td>-101559.956668</td>\n",
       "      <td>3.656158e+05</td>\n",
       "    </tr>\n",
       "    <tr>\n",
       "      <th>3</th>\n",
       "      <td>1.0</td>\n",
       "      <td>-3.4</td>\n",
       "      <td>11.56</td>\n",
       "      <td>-39.304</td>\n",
       "      <td>133.6336</td>\n",
       "      <td>-454.35424</td>\n",
       "      <td>1544.804416</td>\n",
       "      <td>-5252.335014</td>\n",
       "      <td>17857.939049</td>\n",
       "      <td>-60716.992766</td>\n",
       "      <td>2.064378e+05</td>\n",
       "    </tr>\n",
       "    <tr>\n",
       "      <th>4</th>\n",
       "      <td>1.0</td>\n",
       "      <td>-3.2</td>\n",
       "      <td>10.24</td>\n",
       "      <td>-32.768</td>\n",
       "      <td>104.8576</td>\n",
       "      <td>-335.54432</td>\n",
       "      <td>1073.741824</td>\n",
       "      <td>-3435.973837</td>\n",
       "      <td>10995.116278</td>\n",
       "      <td>-35184.372089</td>\n",
       "      <td>1.125900e+05</td>\n",
       "    </tr>\n",
       "  </tbody>\n",
       "</table>\n",
       "</div>"
      ],
      "text/plain": [
       "   const  data    x^2     x^3       x^4         x^5          x^6  \\\n",
       "0    1.0  -4.0  16.00 -64.000  256.0000 -1024.00000  4096.000000   \n",
       "1    1.0  -3.8  14.44 -54.872  208.5136  -792.35168  3010.936384   \n",
       "2    1.0  -3.6  12.96 -46.656  167.9616  -604.66176  2176.782336   \n",
       "3    1.0  -3.4  11.56 -39.304  133.6336  -454.35424  1544.804416   \n",
       "4    1.0  -3.2  10.24 -32.768  104.8576  -335.54432  1073.741824   \n",
       "\n",
       "            x^7           x^8            x^9          x^10  \n",
       "0 -16384.000000  65536.000000 -262144.000000  1.048576e+06  \n",
       "1 -11441.558259  43477.921385 -165216.101263  6.278212e+05  \n",
       "2  -7836.416410  28211.099075 -101559.956668  3.656158e+05  \n",
       "3  -5252.335014  17857.939049  -60716.992766  2.064378e+05  \n",
       "4  -3435.973837  10995.116278  -35184.372089  1.125900e+05  "
      ]
     },
     "execution_count": 17,
     "metadata": {},
     "output_type": "execute_result"
    }
   ],
   "source": [
    "data_dict = {\n",
    "    \"const\": np.ones_like(x_ary),\n",
    "    \"data\": x_ary\n",
    "}\n",
    "\n",
    "for power in range(2, 11):\n",
    "    data_dict[f\"x^{power}\"] = x_ary ** power\n",
    "\n",
    "df = pd.DataFrame(data_dict)\n",
    "\n",
    "df.head()\n"
   ]
  },
  {
   "cell_type": "markdown",
   "metadata": {},
   "source": [
    "### 2.1 Fitting using the Polynomials\n",
    "\n",
    "We'll talk about measures of \"goodness\" of fit during the class, but one good measure for a multi-feature fit is the **Adjusted R-squared** value. In general, the **R-squared** describes the variance in the model that it can account for. If the R-squared is 1.0, then all the variance is accounted for an you have a perfect fit. If the value is 0 and you have no fit. However, for multiple features R-squared tends to over-estimate. The Adjusted R-squared tries to deal with this and provide a value that is better suited to multiple features.\n",
    "\n",
    "We'll leave it to you how you want to do this, but what we'd like you to try is to fit different combinations of features against `y_noisy` and report the Adjusted R-squared value. For example, what is the Adjusted R-squared for:\n",
    "\n",
    "1. just the const column\n",
    "2. the const and data columns (which should be a line)\n",
    "3. the const, data and $x^2$ columns\n",
    "4. the const, data, $x^2$ and $x^3$ columns\n",
    "5. $\\ldots$\n",
    "\n",
    "So on and so forth. You can do them individually or on a loop and collect the results. \n",
    "\n",
    "The object that is returned by the `.fit()` method is an instance of a `statsmodels` \"`statsmodels.regression.linear_model.RegressionResults`\". Run the `type` command on it and see. If you look on the <a href=\"https://www.statsmodels.org/stable/generated/statsmodels.regression.linear_model.RegressionResults.html#statsmodels.regression.linear_model.RegressionResults\"> statsmodels doc page </a> under \"Properties\" (scroll down and look for that word as a title), you will find  all values you can gather from the variable returned by `.fit()`. For this assignment the most important one of those is `.rsquared_adj`. \n",
    "\n",
    "&#9989; **Do This**: Explore a variety of models that fit to the noisy data using increasingly more features. Look at that value for the combination of features you selected and say which one is the \"best\". For this assignment, we would consider the \"best\" would be the highest value of `.rsquared_adj`.\n",
    "\n",
    "**Note**: you do not have to try an exhaustive set of models (though you could set this up with a loop), just explore a variety of combinations and reflect on the results."
   ]
  },
  {
   "cell_type": "code",
   "execution_count": 13,
   "metadata": {},
   "outputs": [
    {
     "name": "stdout",
     "output_type": "stream",
     "text": [
      "Features: x^6 -> Adjusted R^2: 0.9482\n",
      "Features: x^7 -> Adjusted R^2: 0.9470\n",
      "Features: x^9 -> Adjusted R^2: 0.9470\n",
      "Features: x^4 -> Adjusted R^2: 0.9461\n",
      "Features: x^5 -> Adjusted R^2: 0.9459\n",
      "Features: x^8 -> Adjusted R^2: 0.9459\n",
      "Features: x^10 -> Adjusted R^2: 0.9452\n",
      "Features: x^3 -> Adjusted R^2: 0.5675\n",
      "Features: data -> Adjusted R^2: 0.2318\n",
      "Features: x^2 -> Adjusted R^2: 0.2215\n",
      "Features: const -> Adjusted R^2: 0.0000\n"
     ]
    }
   ],
   "source": [
    "for power in range(2, 11):\n",
    "    data_dict[f\"x^{power}\"] = x_ary ** power\n",
    "df = pd.DataFrame(data_dict)\n",
    "\n",
    "feature_sets = [\n",
    "    [\"const\"],\n",
    "    [\"const\", \"data\"],\n",
    "    [\"const\", \"data\", \"x^2\"],\n",
    "    [\"const\", \"data\", \"x^2\", \"x^3\"],\n",
    "    [\"const\", \"data\", \"x^2\", \"x^3\", \"x^4\"],\n",
    "    [\"const\", \"data\", \"x^2\", \"x^3\", \"x^4\", \"x^5\"],\n",
    "    [\"const\", \"data\", \"x^2\", \"x^3\", \"x^4\", \"x^5\", \"x^6\"],\n",
    "    [\"const\", \"data\", \"x^2\", \"x^3\", \"x^4\", \"x^5\", \"x^6\", \"x^7\"],\n",
    "    [\"const\", \"data\", \"x^2\", \"x^3\", \"x^4\", \"x^5\", \"x^6\", \"x^7\", \"x^8\"],\n",
    "    [\"const\", \"data\", \"x^2\", \"x^3\", \"x^4\", \"x^5\", \"x^6\", \"x^7\", \"x^8\", \"x^9\"],\n",
    "    [\"const\", \"data\", \"x^2\", \"x^3\", \"x^4\", \"x^5\", \"x^6\", \"x^7\", \"x^8\", \"x^9\", \"x^10\"],\n",
    "]\n",
    "\n",
    "results = []\n",
    "\n",
    "for features in feature_sets:\n",
    "    X = df[features]\n",
    "    model = sm.OLS(y_noisy, X).fit()\n",
    "    results.append((features, model.rsquared_adj))\n",
    "\n",
    "sorted_results = sorted(results, key=lambda x: x[1], reverse=True)\n",
    "for features, r2_adj in sorted_results:\n",
    "    print(f\"Features: {features[-1]} -> Adjusted R^2: {r2_adj:.4f}\")\n"
   ]
  },
  {
   "cell_type": "markdown",
   "metadata": {},
   "source": [
    "&#9989; **Questions**: Which combination of features best \"fit\" your data? What was the Adjusted R-squared? Why might that combination produce the best fit?"
   ]
  },
  {
   "cell_type": "markdown",
   "metadata": {},
   "source": [
    "<font size=+3>&#9998;</font> the x^6 best fits the data, the r^2 is .948. It works best because it fits the number of humps there are in the graph and both end up on the same side although I would guess the x^4 really matches it best. "
   ]
  },
  {
   "cell_type": "markdown",
   "metadata": {},
   "source": [
    "---\n",
    "## 3 Plot your data and your model\n",
    "\n",
    "&#9989; **Do this**:  Plot `x_ary` vs `y_noisy` and `x_ary` vs the best fitted values based on the adjusted R-squared value. Do it in the same graph. Again, the Property `.fittedvalues` gives out a panda Series with the fitted values (the y values for your best fit model). Also print out the summary for the variable returned by `.fit()`\n",
    "\n",
    "Your plot might end up looking something like this:\n",
    "\n",
    "<img src=\"https://i.ibb.co/z6LrB3N/best-fit.png\" alt=\"best-fit\" border=\"0\" width=300>"
   ]
  },
  {
   "cell_type": "code",
   "execution_count": 19,
   "metadata": {},
   "outputs": [
    {
     "data": {
      "image/png": "[encoded data removed]",
      "text/plain": [
       "<Figure size 800x500 with 1 Axes>"
      ]
     },
     "metadata": {},
     "output_type": "display_data"
    },
    {
     "name": "stdout",
     "output_type": "stream",
     "text": [
      "                            OLS Regression Results                            \n",
      "==============================================================================\n",
      "Dep. Variable:                      y   R-squared:                       0.048\n",
      "Model:                            OLS   Adj. R-squared:                  0.024\n",
      "Method:                 Least Squares   F-statistic:                     1.965\n",
      "Date:                Mon, 17 Mar 2025   Prob (F-statistic):              0.169\n",
      "Time:                        23:14:04   Log-Likelihood:                -202.68\n",
      "No. Observations:                  41   AIC:                             409.4\n",
      "Df Residuals:                      39   BIC:                             412.8\n",
      "Df Model:                           1                                         \n",
      "Covariance Type:            nonrobust                                         \n",
      "==============================================================================\n",
      "                 coef    std err          t      P>|t|      [0.025      0.975]\n",
      "------------------------------------------------------------------------------\n",
      "const          6.5804      6.348      1.037      0.306      -6.259      19.420\n",
      "x^6            0.0068      0.005      1.402      0.169      -0.003       0.017\n",
      "==============================================================================\n",
      "Omnibus:                        1.568   Durbin-Watson:                   0.208\n",
      "Prob(Omnibus):                  0.457   Jarque-Bera (JB):                1.233\n",
      "Skew:                           0.422   Prob(JB):                        0.540\n",
      "Kurtosis:                       2.895   Cond. No.                     1.53e+03\n",
      "==============================================================================\n",
      "\n",
      "Notes:\n",
      "[1] Standard Errors assume that the covariance matrix of the errors is correctly specified.\n",
      "[2] The condition number is large, 1.53e+03. This might indicate that there are\n",
      "strong multicollinearity or other numerical problems.\n"
     ]
    }
   ],
   "source": [
    "import numpy as np\n",
    "import pandas as pd\n",
    "import statsmodels.api as sm\n",
    "import matplotlib.pyplot as plt\n",
    "\n",
    "# Generate x_ary\n",
    "x_ary = np.arange(-4, 4.2, 0.2)\n",
    "\n",
    "# Compute y_ary using the polynomial function\n",
    "y_ary = x_ary**4 + 2*x_ary**3 - 15*x_ary**2 - 12*x_ary + 36\n",
    "\n",
    "# Generate noisy y values\n",
    "noise = np.random.uniform(-15, 15, size=x_ary.shape)\n",
    "y_noisy = y_ary + noise\n",
    "\n",
    "# Create DataFrame with x^6 feature\n",
    "df = pd.DataFrame({\"const\": np.ones_like(x_ary), \"x^6\": x_ary**6})\n",
    "\n",
    "# Fit the model using only x^6\n",
    "X_x6 = df[[\"const\", \"x^6\"]]\n",
    "model_x6 = sm.OLS(y_noisy, X_x6).fit()\n",
    "\n",
    "# Extract coefficients\n",
    "coefs_x6 = model_x6.params\n",
    "\n",
    "# Compute fitted values manually for x^6\n",
    "y_fitted_x6 = coefs_x6[\"const\"] + coefs_x6[\"x^6\"] * x_ary**6\n",
    "\n",
    "# Plot noisy data and best fit using only x^6\n",
    "plt.figure(figsize=(8, 5))\n",
    "plt.scatter(x_ary, y_noisy, label=\"Noisy Data\", color=\"red\", alpha=0.6, marker='o')\n",
    "plt.plot(x_ary, y_fitted_x6, label=\"Best Fit (x^6)\", color=\"blue\", linewidth=2)\n",
    "\n",
    "# Labels and title\n",
    "plt.xlabel(\"x values\")\n",
    "plt.ylabel(\"y values\")\n",
    "plt.title(\"Best Polynomial Fit Using Only x^6 vs Noisy Data\")\n",
    "\n",
    "# Show legend\n",
    "plt.legend()\n",
    "\n",
    "# Display the plot\n",
    "plt.show()\n",
    "\n",
    "# Print model summary\n",
    "print(model_x6.summary())\n"
   ]
  },
  {
   "cell_type": "markdown",
   "metadata": {},
   "source": [
    "### 3.1 Are we justified in using this model?\n",
    "\n",
    "As we did previously, we can check how well we are justified in using this model, by looking at the residual plot. \n",
    "\n",
    "&#9989; **Do this**: Again, using `plot_regress_exog`, plot the residuals as a function of the independent variable (`data` or `x`, whatever you called it)."
   ]
  },
  {
   "cell_type": "code",
   "execution_count": null,
   "metadata": {},
   "outputs": [],
   "source": [
    "# put your code here\n"
   ]
  },
  {
   "cell_type": "markdown",
   "metadata": {},
   "source": [
    "&#9989; **Question**: Do we appear justified in using this model? Why or why not? "
   ]
  },
  {
   "cell_type": "markdown",
   "metadata": {},
   "source": [
    "<font size=+3>&#9998;</font> This looks very wrong and im super confused."
   ]
  },
  {
   "cell_type": "markdown",
   "metadata": {},
   "source": [
    "---\n",
    "## Follow-up Questions\n",
    "\n",
    "Copy and paste the following questions into the appropriate box in the assignment survey include below and answer them there. (Note: You'll have to fill out the assignment number and go to the \"NEXT\" section of the survey to paste in these questions.)\n",
    "\n",
    "1. Which combination of features best \"fit\" your data? What was the Adjusted R-squared? Why might that combination produce the best fit? (you should be able to copy your answer to this question from above)\n",
    "\n",
    "2. Based on your plot of the residuals, do we appear justified in using this model? Why or why not? (you should be able to copy your answer to this question from above)"
   ]
  },
  {
   "cell_type": "markdown",
   "metadata": {},
   "source": [
    "----\n",
    "\n",
    "# Assignment wrap-up\n",
    "\n",
    "Hopefully you were able to get through all of that. We'll be trouble-shooting any issues you had\n",
    "\n",
    "**You must completely fill this out in order to receive credit for the assignment!**"
   ]
  },
  {
   "cell_type": "code",
   "execution_count": 20,
   "metadata": {},
   "outputs": [
    {
     "data": {
      "text/html": [
       "\n",
       "<iframe \n",
       "\tsrc=\"https://cmse.msu.edu/cmse202-pc-survey\" \n",
       "\twidth=\"800px\" \n",
       "\theight=\"600px\" \n",
       "\tframeborder=\"0\" \n",
       "\tmarginheight=\"0\" \n",
       "\tmarginwidth=\"0\">\n",
       "\tLoading...\n",
       "</iframe>\n"
      ],
      "text/plain": [
       "<IPython.core.display.HTML object>"
      ]
     },
     "execution_count": 20,
     "metadata": {},
     "output_type": "execute_result"
    }
   ],
   "source": [
    "HTML(\n",
    "\"\"\"\n",
    "<iframe \n",
    "\tsrc=\"https://cmse.msu.edu/cmse202-pc-survey\" \n",
    "\twidth=\"800px\" \n",
    "\theight=\"600px\" \n",
    "\tframeborder=\"0\" \n",
    "\tmarginheight=\"0\" \n",
    "\tmarginwidth=\"0\">\n",
    "\tLoading...\n",
    "</iframe>\n",
    "\"\"\"\n",
    ")"
   ]
  },
  {
   "cell_type": "markdown",
   "metadata": {},
   "source": [
    "---------\n",
    "### Congratulations, you're done with your pre-class assignment!\n",
    "\n",
    "Now, you just need to submit this assignment by uploading it to the course <a href=\"https://d2l.msu.edu/\">Desire2Learn</a> web page for the appropriate pre-class submission folder (Don't forget to add your name in the first cell)."
   ]
  },
  {
   "cell_type": "markdown",
   "metadata": {},
   "source": [
    "&#169; Copyright 2025,  Department of Computational Mathematics, Science and Engineering at Michigan State University\n",
    "\n",
    "<!-- 9/16/2024 -->"
   ]
  }
 ],
 "metadata": {
  "kernelspec": {
   "display_name": "Python 3.11 (default)",
   "language": "python",
   "name": "python3"
  },
  "language_info": {
   "codemirror_mode": {
    "name": "ipython",
    "version": 3
   },
   "file_extension": ".py",
   "mimetype": "text/x-python",
   "name": "python",
   "nbconvert_exporter": "python",
   "pygments_lexer": "ipython3",
   "version": "3.11.11"
  },
  "widgets": {
   "application/vnd.jupyter.widget-state+json": {
    "state": {},
    "version_major": 2,
    "version_minor": 0
   }
  }
 },
 "nbformat": 4,
 "nbformat_minor": 4
}
